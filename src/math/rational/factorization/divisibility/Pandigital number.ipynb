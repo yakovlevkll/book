{
 "cells": [
  {
   "cell_type": "markdown",
   "metadata": {},
   "source": [
    "#Pandigital number\n",
    "---"
   ]
  },
  {
   "cell_type": "markdown",
   "metadata": {},
   "source": [
    "##Задача\n",
    "\n",
    "Найти такое число, первые $n$ цифр которого делятся нацело с помощью $n$. Число должно состоять из цифр от $0$ до $9$, цифры повторяться не должны."
   ]
  },
  {
   "cell_type": "markdown",
   "metadata": {},
   "source": [
    "##Решение\n",
    "\n",
    "1. $0$ и $5$. Из признаков делимости на $10$ понятно, что число должно заканчиваться на $0$. Тогда на пятом месте будет цифра $5$ (признак делимости на $5$)\n",
    "\n",
    "$$\\_\\quad \\_\\quad \\_\\quad \\_\\quad 5\\quad \\_\\quad \\_\\quad \\_\\quad \\_\\quad 0$$\n",
    "                    \n",
    "2. Признаки делимости на 2, 4, 6, 8. Во всех этих признаках присутствует условие, что число должно быть чётным\n",
    "\n",
    "$$\n",
    "\\_\\;\\begin{bmatrix}2\\\\4\\\\6\\\\8\\end{bmatrix}\\;\n",
    "\\_\\;\\begin{bmatrix}2\\\\4\\\\6\\\\8\\end{bmatrix}\\;\n",
    "5\\;\\begin{bmatrix}2\\\\4\\\\6\\\\8\\end{bmatrix}\\;\n",
    "\\_\\;\\begin{bmatrix}2\\\\4\\\\6\\\\8\\end{bmatrix}\\;\n",
    "\\_\\;0\n",
    "$$\n",
    "\n",
    "Напрашивается вывод, что рядом не будут стоять пары чётных чисел.</p>\n",
    "\n",
    "3. Проанализируем подробнее признаки делимости на 4 и 8.\n",
    "\n",
    "Числа, делящиеся на 4\n"
   ]
  },
  {
   "cell_type": "code",
   "execution_count": 7,
   "metadata": {
    "scrolled": true
   },
   "outputs": [
    {
     "data": {
      "text/html": [
       "<table>\n",
       "<tbody>\n",
       "<tr><td style=\"text-align: right;\">04</td><td style=\"text-align: right;\">08</td><td style=\"text-align: right;\">12</td><td style=\"text-align: right;\">16</td><td style=\"text-align: right;\">20</td><td style=\"text-align: right;\">24</td></tr>\n",
       "<tr><td style=\"text-align: right;\">28</td><td style=\"text-align: right;\">32</td><td style=\"text-align: right;\">36</td><td style=\"text-align: right;\">40</td><td style=\"text-align: right;\">44</td><td style=\"text-align: right;\">48</td></tr>\n",
       "<tr><td style=\"text-align: right;\">52</td><td style=\"text-align: right;\">56</td><td style=\"text-align: right;\">60</td><td style=\"text-align: right;\">64</td><td style=\"text-align: right;\">68</td><td style=\"text-align: right;\">72</td></tr>\n",
       "<tr><td style=\"text-align: right;\">76</td><td style=\"text-align: right;\">80</td><td style=\"text-align: right;\">84</td><td style=\"text-align: right;\">88</td><td style=\"text-align: right;\">92</td><td style=\"text-align: right;\">96</td></tr>\n",
       "</tbody>\n",
       "</table>"
      ],
      "text/plain": [
       "<IPython.core.display.HTML object>"
      ]
     },
     "metadata": {},
     "output_type": "display_data"
    }
   ],
   "source": [
    "from IPython.display import HTML, display\n",
    "import tabulate\n",
    "\n",
    "rows = 7\n",
    "rowNum = 0\n",
    "cells = 0\n",
    "\n",
    "multiples = []\n",
    "\n",
    "for i in range(1, 100):\n",
    "    \n",
    "    if i % 4 == 0:\n",
    "        if cells == 0:\n",
    "            multiples.append([])\n",
    "        m = str(i)\n",
    "        if len(m) == 1:\n",
    "            m = '0' + m\n",
    "        multiples[rowNum].append(m)\n",
    "        cells += 1\n",
    "    if cells == rows - 1:\n",
    "        rowNum += 1\n",
    "        cells = 0\n",
    "        \n",
    "display(HTML(tabulate.tabulate(multiples, tablefmt='html')))"
   ]
  },
  {
   "cell_type": "markdown",
   "metadata": {},
   "source": [
    "Числа, делящиеся на 8. На месте первого нуля может быть любое чётное число, на месте первой единицы - нечётное"
   ]
  },
  {
   "cell_type": "code",
   "execution_count": 8,
   "metadata": {
    "scrolled": true
   },
   "outputs": [
    {
     "data": {
      "text/html": [
       "<table>\n",
       "<tbody>\n",
       "<tr><td>n08</td><td>n16</td><td>n24</td><td>n32</td><td>n40</td><td>n48</td></tr>\n",
       "<tr><td>n56</td><td>n64</td><td>n72</td><td>n80</td><td>n88</td><td>n96</td></tr>\n",
       "<tr><td>m04</td><td>m12</td><td>m20</td><td>m28</td><td>m36</td><td>m44</td></tr>\n",
       "<tr><td>m52</td><td>m60</td><td>m68</td><td>m76</td><td>m84</td><td>m92</td></tr>\n",
       "</tbody>\n",
       "</table>"
      ],
      "text/plain": [
       "<IPython.core.display.HTML object>"
      ]
     },
     "metadata": {},
     "output_type": "display_data"
    }
   ],
   "source": [
    "from IPython.display import HTML, display\n",
    "import tabulate\n",
    "\n",
    "rows = 7\n",
    "rowNum = 0\n",
    "cells = 0\n",
    "\n",
    "multiples = []\n",
    "\n",
    "for i in range(1, 200):\n",
    "    \n",
    "    if i % 8 == 0:\n",
    "        if cells == 0:\n",
    "            multiples.append([])\n",
    "        m = str(i)\n",
    "        if len(m) == 1:\n",
    "            m = 'n0' + m\n",
    "        elif len(m) == 2:\n",
    "            m = 'n' + m\n",
    "        elif len(m) == 3:\n",
    "            m = 'm' + m[1:]\n",
    "        multiples[rowNum].append(m)\n",
    "        cells += 1\n",
    "    if cells == rows - 1:\n",
    "        rowNum += 1\n",
    "        cells = 0\n",
    "        \n",
    "display(HTML(tabulate.tabulate(multiples, tablefmt='html')))\n",
    "# HTML('''<script>\n",
    "# code_show=true; \n",
    "# function code_toggle() {\n",
    "#  if (code_show){\n",
    "#  $('div.input').hide();\n",
    "#  } else {\n",
    "#  $('div.input').show();\n",
    "#  }\n",
    "#  code_show = !code_show\n",
    "# } \n",
    "# $( document ).ready(code_toggle);\n",
    "# </script>\n",
    "# <a href=\"javascript:code_toggle()\">Show</a> the Python 3 code''')"
   ]
  },
  {
   "cell_type": "markdown",
   "metadata": {},
   "source": [
    "Из огромного количества нас интересуют только числа без нулей, пятерок, состоящие из четной+нечетной цифры. Видно, что все числа с первой нечетной цифрой в таблице для 8 нам не подходят ($n$ отвечает за любую чётную цифру, $m$ - за нечётную). Причина – либо два соседних чётных числа в конце, либо два нечетных в начале.\n",
    "\n",
    "Таким образом, для признака на 4 нам подходят 12, 16, 32, 36, 72, 76, 92, 96.\n",
    "Для признака на 8 – n16, n32, n72, n96.\n",
    "\n",
    "Все подходящие цифры заканчиваются на 2 или 6. Значит, на 4 и 8 местах будут именно они. Тогда на 2 и 6 месте – 4 или 8.</p>\n",
    "\n",
    "$$\n",
    "\\_\\;\\begin{bmatrix}4\\\\8\\end{bmatrix}\\;\n",
    "\\_\\;\\begin{bmatrix}2\\\\6\\end{bmatrix}\\;\n",
    "5\\;\\begin{bmatrix}4\\\\8\\end{bmatrix}\\;\n",
    "\\_\\;\\begin{bmatrix}2\\\\6\\end{bmatrix}\\;\n",
    "\\_\\;0\n",
    "$$\n",
    "\n",
    "Признаки делимости на 3, 6, 9. Наличие этих признаков вместе означает, что первые, вторые и третьи три цифры должны делиться на три. Можно сразу отметить, что с четвертой по шестую цифры будут либо 258,  либо 654 (сумма равна 15).\n",
    "\n",
    "$$\n",
    "\\_\\;\\begin{bmatrix}4\\\\8\\end{bmatrix}\\;\n",
    "\\_\\;\\begin{bmatrix}2\\\\6\\end{bmatrix}\\;\n",
    "5\\;\\begin{bmatrix}8\\\\4\\end{bmatrix}\\;\n",
    "\\_\\;\\begin{bmatrix}2\\\\6\\end{bmatrix}\\;\n",
    "\\_\\;0\n",
    "$$\n",
    "\n",
    "Двинемся дальше и рассмотрим все уникальные комбинации, которые можно получить из цифр 1, 3, 7, 9 для первого и третьего места.\n",
    "\n",
    "$$1+3=4$$\n",
    "$$1+7=8$$\n",
    "$$1+9=10$$\n",
    "$$3+7=10$$\n",
    "$$3+9=12$$\n",
    "$$7+9=16$$\n",
    "\n",
    "Если на втором месте стоит 4, то для признака на 3 нам подходит только комбинация из 1 и 7. Если стоит 8, то комбинации 1 и 3, 1 и 9, 3 и 7, 7 и 9.\n",
    "\n",
    "Проверим сначала 4 на втором месте. Комбинации с 654 с 4-го по 6-ое место тут же отпадают:\n",
    "\n",
    "$$147258$$\n",
    "$$741258$$\n",
    "\n",
    "На данном этапе всё работает. Подключим признак делимости на 7. Можем составить числа с 3 или 9 на седьмом месте, 1 и 7 уже использованы. Но так как возможной комбинацией с 3 является только 32 (признак на 8), то она отпадает, так как 2 уже использована на 4-ом месте\n",
    "\n",
    "$$14725896$$\n",
    "$$74125896$$\n",
    "\n",
    "В данной ситуации не будем мучаться с признаком на 7, а просто поделим"
   ]
  },
  {
   "cell_type": "code",
   "execution_count": 9,
   "metadata": {},
   "outputs": [
    {
     "data": {
      "text/plain": [
       "'14725896 : 7 = 2103699.429'"
      ]
     },
     "metadata": {},
     "output_type": "display_data"
    },
    {
     "data": {
      "text/plain": [
       "'74125896 : 7 = 10589413.714'"
      ]
     },
     "metadata": {},
     "output_type": "display_data"
    }
   ],
   "source": [
    "numbers = [14725896, 74125896]\n",
    "\n",
    "for i in numbers:\n",
    "    display('{0} : 7 = {1}'.format(i, round(i / 7, 3)))"
   ]
  },
  {
   "cell_type": "markdown",
   "metadata": {},
   "source": [
    "Удовлетворительный результат не получен. Значит, наше предположение о 4 на втором месте было неверным. Хоть это не положительный результат, он дает нам определенность по всем четным цифрам в числе и сокращает количество вариантов на седьмом месте\n",
    "\n",
    "$$\n",
    "\\_ \\quad 8 \\quad\n",
    "\\_ \\quad 6 \\quad\n",
    "5 \\quad 4 \\quad\n",
    "\\begin{bmatrix}3\\\\7\\end{bmatrix} \\quad 2 \\quad\n",
    "\\_ \\quad 0\n",
    "$$"
   ]
  },
  {
   "cell_type": "code",
   "execution_count": null,
   "metadata": {},
   "outputs": [],
   "source": []
  }
 ],
 "metadata": {
  "kernelspec": {
   "display_name": "Python 3",
   "language": "python",
   "name": "python3"
  },
  "language_info": {
   "codemirror_mode": {
    "name": "ipython",
    "version": 3
   },
   "file_extension": ".py",
   "mimetype": "text/x-python",
   "name": "python",
   "nbconvert_exporter": "python",
   "pygments_lexer": "ipython3",
   "version": "3.6.2"
  }
 },
 "nbformat": 4,
 "nbformat_minor": 2
}
